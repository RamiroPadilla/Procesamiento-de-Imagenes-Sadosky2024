{
  "cells": [
    {
      "cell_type": "markdown",
      "metadata": {},
      "source": [
        "<a href=\"https://colab.research.google.com/github/RamiroPadilla/Procesamiento-de-Imagenes-Sadosky2024/blob/main/Practica_2.ipynb\" target=\"_parent\"><img src=\"https://colab.research.google.com/assets/colab-badge.svg\" alt=\"Open In Colab\"/></a>"
      ]
    },
    {
      "cell_type": "markdown",
      "metadata": {
        "id": "3J9nZra6t-A4"
      },
      "source": [
        "# Práctica 2: Redes neuronales para clasificación de imágenes\n",
        "\n"
      ]
    },
    {
      "cell_type": "markdown",
      "metadata": {
        "id": "cauS5jv_8z_q"
      },
      "source": [
        "En esta práctica, implementaremos redes neuronales para clasificar dígitos manuscritos sin necesidad de extracción manual de características. Utilizaremos el dataset MNIST, que contiene imágenes de dígitos de 28x28 píxeles.\n",
        "\n"
      ]
    },
    {
      "cell_type": "markdown",
      "metadata": {
        "id": "ra-u8pnK81ds"
      },
      "source": [
        "Para empezar, importamos todas las bibliotecas que necesitaremos:"
      ]
    },
    {
      "cell_type": "code",
      "execution_count": null,
      "metadata": {
        "id": "HG2H75ImpbMh"
      },
      "outputs": [],
      "source": [
        "import torch\n",
        "import torch.nn as nn\n",
        "import torch.optim as optim\n",
        "import torch.nn.functional as F\n",
        "from torch.utils.data import TensorDataset, DataLoader\n",
        "\n",
        "import torchvision\n",
        "import torchvision.transforms as transforms\n",
        "import torchvision.datasets as datasets\n",
        "\n",
        "import matplotlib.pyplot as plt\n",
        "import numpy as np\n",
        "\n",
        "plt.rcParams[\"figure.figsize\"] = [8, 6]"
      ]
    },
    {
      "cell_type": "markdown",
      "metadata": {
        "id": "t1oATViypI2s"
      },
      "source": [
        "Luego, cargamos el dataset MNIST y visualizamos algunos ejemplos del conjunto de entrenamiento:"
      ]
    },
    {
      "cell_type": "code",
      "execution_count": null,
      "metadata": {
        "colab": {
          "base_uri": "https://localhost:8080/",
          "height": 1000
        },
        "id": "Rk63hhehpHth",
        "outputId": "ad300f3b-3d1f-4e37-f4e9-42bef914083e"
      },
      "outputs": [
        {
          "name": "stdout",
          "output_type": "stream",
          "text": [
            "Downloading http://yann.lecun.com/exdb/mnist/train-images-idx3-ubyte.gz\n",
            "Failed to download (trying next):\n",
            "HTTP Error 403: Forbidden\n",
            "\n",
            "Downloading https://ossci-datasets.s3.amazonaws.com/mnist/train-images-idx3-ubyte.gz\n",
            "Downloading https://ossci-datasets.s3.amazonaws.com/mnist/train-images-idx3-ubyte.gz to ./data/MNIST/raw/train-images-idx3-ubyte.gz\n"
          ]
        },
        {
          "name": "stderr",
          "output_type": "stream",
          "text": [
            "100%|██████████| 9912422/9912422 [00:00<00:00, 15517928.36it/s]\n"
          ]
        },
        {
          "name": "stdout",
          "output_type": "stream",
          "text": [
            "Extracting ./data/MNIST/raw/train-images-idx3-ubyte.gz to ./data/MNIST/raw\n",
            "\n",
            "Downloading http://yann.lecun.com/exdb/mnist/train-labels-idx1-ubyte.gz\n",
            "Failed to download (trying next):\n",
            "HTTP Error 403: Forbidden\n",
            "\n",
            "Downloading https://ossci-datasets.s3.amazonaws.com/mnist/train-labels-idx1-ubyte.gz\n",
            "Downloading https://ossci-datasets.s3.amazonaws.com/mnist/train-labels-idx1-ubyte.gz to ./data/MNIST/raw/train-labels-idx1-ubyte.gz\n"
          ]
        },
        {
          "name": "stderr",
          "output_type": "stream",
          "text": [
            "100%|██████████| 28881/28881 [00:00<00:00, 437211.96it/s]\n"
          ]
        },
        {
          "name": "stdout",
          "output_type": "stream",
          "text": [
            "Extracting ./data/MNIST/raw/train-labels-idx1-ubyte.gz to ./data/MNIST/raw\n",
            "\n",
            "Downloading http://yann.lecun.com/exdb/mnist/t10k-images-idx3-ubyte.gz\n",
            "Failed to download (trying next):\n",
            "HTTP Error 403: Forbidden\n",
            "\n",
            "Downloading https://ossci-datasets.s3.amazonaws.com/mnist/t10k-images-idx3-ubyte.gz\n",
            "Downloading https://ossci-datasets.s3.amazonaws.com/mnist/t10k-images-idx3-ubyte.gz to ./data/MNIST/raw/t10k-images-idx3-ubyte.gz\n"
          ]
        },
        {
          "name": "stderr",
          "output_type": "stream",
          "text": [
            "100%|██████████| 1648877/1648877 [00:00<00:00, 4014581.47it/s]\n"
          ]
        },
        {
          "name": "stdout",
          "output_type": "stream",
          "text": [
            "Extracting ./data/MNIST/raw/t10k-images-idx3-ubyte.gz to ./data/MNIST/raw\n",
            "\n",
            "Downloading http://yann.lecun.com/exdb/mnist/t10k-labels-idx1-ubyte.gz\n",
            "Failed to download (trying next):\n",
            "HTTP Error 403: Forbidden\n",
            "\n",
            "Downloading https://ossci-datasets.s3.amazonaws.com/mnist/t10k-labels-idx1-ubyte.gz\n",
            "Downloading https://ossci-datasets.s3.amazonaws.com/mnist/t10k-labels-idx1-ubyte.gz to ./data/MNIST/raw/t10k-labels-idx1-ubyte.gz\n"
          ]
        },
        {
          "name": "stderr",
          "output_type": "stream",
          "text": [
            "100%|██████████| 4542/4542 [00:00<00:00, 3949933.40it/s]\n"
          ]
        },
        {
          "name": "stdout",
          "output_type": "stream",
          "text": [
            "Extracting ./data/MNIST/raw/t10k-labels-idx1-ubyte.gz to ./data/MNIST/raw\n",
            "\n"
          ]
        },
        {
          "data": {
            "image/png": "[encoded data removed]",
            "text/plain": [
              "<Figure size 800x600 with 16 Axes>"
            ]
          },
          "metadata": {},
          "output_type": "display_data"
        }
      ],
      "source": [
        "train_dataset = datasets.MNIST(\n",
        "    root=\"./data\",\n",
        "    train=True,\n",
        "    download=True,\n",
        "    transform=transforms.ToTensor()\n",
        ")\n",
        "\n",
        "test_dataset = datasets.MNIST(\n",
        "    root=\"./data\",\n",
        "    train=False,\n",
        "    download=True,\n",
        "    transform=transforms.ToTensor()\n",
        ")\n",
        "\n",
        "plt.figure()\n",
        "for i in range(16):\n",
        "    plt.subplot(4, 4, i+1)\n",
        "    plt.imshow(train_dataset.data[i], cmap=plt.get_cmap(\"gray_r\"))\n",
        "    plt.axis('off')"
      ]
    },
    {
      "cell_type": "markdown",
      "metadata": {
        "id": "o-JTq7F75IOi"
      },
      "source": [
        "# Red Neuronal Multicapa"
      ]
    },
    {
      "cell_type": "markdown",
      "metadata": {
        "id": "CZC9uQ-ivsmz"
      },
      "source": [
        "En primer luegar, implementaremos una red neuronal multicapa (`MultiLayerNN`) para que pueda clasificar imágenes de 28x28 píxeles en 10 categorías diferentes.\n",
        "\n",
        "## Arquitectura de la red\n",
        "* La red contará con dos capas ocultas, cada una con 512 neuronas, y aplicaremos una función de activación ReLU después de cada capa oculta para introducir no linealidad.\n",
        "* La capa de salida tendrá 10 neuronas, lo que corresponde a las 10 posibles categorías (dígitos del 0 al 9) que el modelo debe predecir.\n",
        "\n",
        "## Transformación de los datos de entrada\n",
        "Antes de procesar las imágenes, es necesario convertirlas de una matriz de 28x28 píxeles a un vector de 784 componentes. Esto se logra utilizando la función `view` de los tensores de PyTorch.\n",
        "\n",
        "## Herramientas de PyTorch:\n",
        "Algunas clases y funciones de PyTorch que nos serán útiles para implementar el modelo son:\n",
        "* `nn.Linear`: implementa una capa totalmente conectada. Debemos especificar el número de entradas y salidas de la capa.\n",
        "* `F.relu`: implementa la función de activación ReLU, que se aplica después de las capas ocultas (la podemos aplicar directamente dentro del método `forward` de la red).\n",
        "\n",
        "## Entrenamiento del modelo\n",
        "* **Optimizador**: utilizaremos el método de Gradiente Descendente Estocástico por mini-batches (`optim.SGD`) para ajustar los pesos de la red durante el entrenamiento.\n",
        "* **Función de pérdida**: la función de pérdida será la Entropía Cruzada (`nn.CrossEntropyLoss`), adecuada para problemas de clasificación multiclase, como la clasificación de dígitos manuscritos."
      ]
    },
    {
      "cell_type": "markdown",
      "metadata": {
        "id": "4eiK8K45zn94"
      },
      "source": [
        "Comenzamos implementando la red neuronal multicapa:"
      ]
    },
    {
      "cell_type": "code",
      "execution_count": null,
      "metadata": {
        "id": "vSHUXi5u7QmP"
      },
      "outputs": [],
      "source": [
        "class MultiLayerNN(torch.nn.Module):\n",
        "    \"\"\"\n",
        "    Red neuronal multicapa (MultiLayerNN)\n",
        "    \"\"\"\n",
        "    def __init__(self):\n",
        "        super().__init__()\n",
        "\n",
        "        # Primera capa oculta\n",
        "        self.fc1 = nn.Linear(784, 100)\n",
        "\n",
        "        # Segunda capa oculta\n",
        "        self.fc2 = nn.Linear(100, 100)\n",
        "\n",
        "        # Capa de salida\n",
        "        self.fc3 = nn.Linear(100, 10)\n",
        "\n",
        "    def forward(self, x):\n",
        "        # Transformar la entrada en un vector para las capas totalmente conectadas\n",
        "        x = x.view(-1, 784)\n",
        "\n",
        "        # Aplicar la primera capa oculta seguida de ReLU\n",
        "        x = self.fc1(x)\n",
        "        x = F.relu(x)\n",
        "\n",
        "        # Aplicar la segunda capa oculta seguida de ReLU\n",
        "        x = self.fc2(x)\n",
        "        x = F.relu(x)\n",
        "\n",
        "        # Aplicar la capa de salida\n",
        "        x = self.fc3(x)\n",
        "\n",
        "        return x"
      ]
    },
    {
      "cell_type": "markdown",
      "metadata": {
        "id": "IAp9hwzrz2aI"
      },
      "source": [
        "Ahora, implementamos el proceso de entrenamiento de la red:"
      ]
    },
    {
      "cell_type": "code",
      "execution_count": null,
      "metadata": {
        "colab": {
          "base_uri": "https://localhost:8080/"
        },
        "id": "JF9FAny3xghZ",
        "outputId": "f50ad43d-8b7c-436e-9977-709b8672022e"
      },
      "outputs": [
        {
          "name": "stdout",
          "output_type": "stream",
          "text": [
            "Época 1/10, Pérdida: 0.9070\n",
            "Época 2/10, Pérdida: 0.3724\n",
            "Época 3/10, Pérdida: 0.6781\n",
            "Época 4/10, Pérdida: 0.3580\n",
            "Época 5/10, Pérdida: 0.2342\n",
            "Época 6/10, Pérdida: 0.2110\n",
            "Época 7/10, Pérdida: 0.3165\n",
            "Época 8/10, Pérdida: 0.1600\n",
            "Época 9/10, Pérdida: 0.2910\n",
            "Época 10/10, Pérdida: 0.1289\n"
          ]
        }
      ],
      "source": [
        "# Configuración del dispositivo (GPU si está disponible, de lo contrario CPU)\n",
        "device = torch.device(\"cuda\" if torch.cuda.is_available() else \"cpu\")\n",
        "\n",
        "# Construcción del modelo y envío al dispositivo\n",
        "model1 = MultiLayerNN()\n",
        "model1.to(device)\n",
        "\n",
        "# Creación de dataLoaders para manejar los batches de entrenamiento y prueba\n",
        "batch_size = 64\n",
        "train_loader = DataLoader(dataset=train_dataset, batch_size=batch_size, shuffle=True)\n",
        "test_loader = DataLoader(dataset=test_dataset, batch_size=batch_size, shuffle=False)\n",
        "\n",
        "# Función de pérdida y optimizador\n",
        "criterion = nn.CrossEntropyLoss()\n",
        "optimizer = optim.SGD(model1.parameters(), lr=0.01)\n",
        "\n",
        "# Lista para guardar los valores de pérdida durante el entrenamiento\n",
        "train_loss = []\n",
        "\n",
        "# Épocas de entrenamiento\n",
        "num_epochs = 10\n",
        "\n",
        "# Establecer el modelo en modo entrenamiento\n",
        "model1.train()\n",
        "\n",
        "# Bucle de entrenamiento\n",
        "for epoch in range(num_epochs):\n",
        "    for inputs, labels in train_loader:\n",
        "        # Mover los datos a la GPU\n",
        "        inputs, labels = inputs.to(device), labels.to(device)\n",
        "\n",
        "        # Limpiar los gradientes\n",
        "        optimizer.zero_grad()\n",
        "\n",
        "        # Pasada forward\n",
        "        outputs = model1(inputs)\n",
        "\n",
        "        # Cálcular la pérdida\n",
        "        loss = criterion(outputs, labels)\n",
        "\n",
        "        # Pasada backward\n",
        "        loss.backward()\n",
        "\n",
        "        # Actualizar los pesos\n",
        "        optimizer.step()\n",
        "\n",
        "        # Guardar el valor de pérdida\n",
        "        train_loss.append(loss.item())\n",
        "\n",
        "    print(f\"Época {epoch + 1}/{num_epochs}, Pérdida: {loss.item():.4f}\")"
      ]
    },
    {
      "cell_type": "markdown",
      "metadata": {
        "id": "5DgpIJFT0B4Q"
      },
      "source": [
        "Guardamos el modelo para poder reutilizarlo cuando queramos:"
      ]
    },
    {
      "cell_type": "code",
      "execution_count": null,
      "metadata": {
        "id": "yUOx_HufzT39"
      },
      "outputs": [],
      "source": [
        "torch.save(model1.state_dict(), \"./multinn.pth\")"
      ]
    },
    {
      "cell_type": "markdown",
      "metadata": {
        "id": "jrbH96t00FCw"
      },
      "source": [
        "Visualizamos los valores de la función de pérdida durante el entrenamiento:"
      ]
    },
    {
      "cell_type": "code",
      "execution_count": null,
      "metadata": {
        "colab": {
          "base_uri": "https://localhost:8080/",
          "height": 563
        },
        "id": "hrvbDeG4ytPP",
        "outputId": "d34f7e84-b78f-4fc5-9529-1c854f00e4a3"
      },
      "outputs": [
        {
          "data": {
            "text/plain": [
              "Text(0.5, 1.0, 'Pérdida durante el entrenamiento (MultiLayerNN)')"
            ]
          },
          "execution_count": 8,
          "metadata": {},
          "output_type": "execute_result"
        },
        {
          "data": {
            "image/png": "[encoded data removed]",
            "text/plain": [
              "<Figure size 800x600 with 1 Axes>"
            ]
          },
          "metadata": {},
          "output_type": "display_data"
        }
      ],
      "source": [
        "train_loss = np.array(train_loss)\n",
        "N = 60\n",
        "run_avg_train_loss = np.convolve(train_loss, np.ones((N,))/N, mode=\"valid\")\n",
        "\n",
        "plt.figure()\n",
        "plt.plot(train_loss, alpha = 0.3) # original\n",
        "plt.plot(run_avg_train_loss, color=\"red\")   # versión suavizada\n",
        "plt.title(\"Pérdida durante el entrenamiento (MultiLayerNN)\")"
      ]
    },
    {
      "cell_type": "markdown",
      "metadata": {
        "id": "Iyou-jpk0frn"
      },
      "source": [
        "Definimos una función para evaluar el modelo entrenado en el conjunto de prueba:"
      ]
    },
    {
      "cell_type": "code",
      "execution_count": null,
      "metadata": {
        "id": "SvPZC2AAkekz"
      },
      "outputs": [],
      "source": [
        "def evaluate_accuracy(model, test_dataset, device=\"cpu\"):\n",
        "    \"\"\"\n",
        "    Calcula la accuracy general y por dígito en el conjunto de prueba.\n",
        "    \"\"\"\n",
        "    model.to(device)\n",
        "\n",
        "    # Establecer el modelo en modo evaluación\n",
        "    model.eval()\n",
        "\n",
        "    correct_per_class = torch.zeros(10)  # Conteo correcto por dígito\n",
        "    total_per_class = torch.zeros(10)    # Total de ejemplos por dígito\n",
        "    total_correct = 0\n",
        "    total_samples = 0\n",
        "\n",
        "    test_loader = DataLoader(test_dataset, batch_size=1000, shuffle=False)\n",
        "\n",
        "    with torch.no_grad():  # No necesitamos gradientes durante la evaluación\n",
        "        for images, labels in test_loader:\n",
        "            # Mover los datos a la GPU\n",
        "            images, labels = images.to(device), labels.to(device)\n",
        "\n",
        "            # Pasada forward\n",
        "            outputs = model(images)\n",
        "\n",
        "            # Obtener las predicciones\n",
        "            _, predicted = torch.max(outputs, 1)\n",
        "\n",
        "            # Actualizar el conteo de predicciones correctas y totales por dígito\n",
        "            for i in range(10):\n",
        "                correct_per_class[i] += (predicted[labels == i] == i).sum().item()\n",
        "                total_per_class[i] += (labels == i).sum().item()\n",
        "\n",
        "            # Actualizar el conteo de predicciones correctas y totales en general\n",
        "            total_correct += (predicted == labels).sum().item()\n",
        "            total_samples += labels.size(0)\n",
        "\n",
        "    # Calcular la accuracy general\n",
        "    overall_accuracy = total_correct / total_samples\n",
        "\n",
        "    # Calcular la accuracy por dígito\n",
        "    accuracy_per_digit = correct_per_class / total_per_class\n",
        "\n",
        "    return overall_accuracy, accuracy_per_digit.tolist()"
      ]
    },
    {
      "cell_type": "markdown",
      "metadata": {
        "id": "b2Ti_Wml1Wjw"
      },
      "source": [
        "Cargamos el modelo entrenado y lo evaluamos en conjunto de prueba:"
      ]
    },
    {
      "cell_type": "code",
      "execution_count": null,
      "metadata": {
        "colab": {
          "base_uri": "https://localhost:8080/"
        },
        "id": "1MEZSQpc1V3C",
        "outputId": "ac83e7ca-abdf-4c9e-9c64-6a24a2ddc36c"
      },
      "outputs": [
        {
          "name": "stderr",
          "output_type": "stream",
          "text": [
            "<ipython-input-10-775c7314effd>:3: FutureWarning: You are using `torch.load` with `weights_only=False` (the current default value), which uses the default pickle module implicitly. It is possible to construct malicious pickle data which will execute arbitrary code during unpickling (See https://github.com/pytorch/pytorch/blob/main/SECURITY.md#untrusted-models for more details). In a future release, the default value for `weights_only` will be flipped to `True`. This limits the functions that could be executed during unpickling. Arbitrary objects will no longer be allowed to be loaded via this mode unless they are explicitly allowlisted by the user via `torch.serialization.add_safe_globals`. We recommend you start setting `weights_only=True` for any use case where you don't have full control of the loaded file. Please open an issue on GitHub for any issues related to this experimental feature.\n",
            "  model1.load_state_dict(torch.load(\"./multinn.pth\"))\n"
          ]
        },
        {
          "name": "stdout",
          "output_type": "stream",
          "text": [
            "Resultados MultiLayerNN:\n",
            "\n",
            "Accuracy General: 0.9377\n",
            "\n",
            "Accuracy para el dígito 0: 0.9776\n",
            "Accuracy para el dígito 1: 0.9806\n",
            "Accuracy para el dígito 2: 0.9312\n",
            "Accuracy para el dígito 3: 0.9188\n",
            "Accuracy para el dígito 4: 0.9552\n",
            "Accuracy para el dígito 5: 0.9070\n",
            "Accuracy para el dígito 6: 0.9582\n",
            "Accuracy para el dígito 7: 0.9154\n",
            "Accuracy para el dígito 8: 0.9097\n",
            "Accuracy para el dígito 9: 0.9167\n"
          ]
        }
      ],
      "source": [
        "# Cargar el modelo entrenado (no es necesario si se encuentra en memoria)\n",
        "model1 = MultiLayerNN()\n",
        "model1.load_state_dict(torch.load(\"./multinn.pth\"))\n",
        "model1.to(device)\n",
        "\n",
        "# Evaluar el modelo entrenado en el conjunto de prueba\n",
        "overall_accuracy, accuracy_per_digit = evaluate_accuracy(model1, test_dataset, device)\n",
        "\n",
        "print(\"Resultados MultiLayerNN:\\n\")\n",
        "\n",
        "# Mostrar la accuracy general\n",
        "print(f\"Accuracy General: {overall_accuracy:.4f}\")\n",
        "print()\n",
        "\n",
        "# Mostrar la accuracy por dígito\n",
        "for i, acc in enumerate(accuracy_per_digit):\n",
        "    print(f\"Accuracy para el dígito {i}: {acc:.4f}\")"
      ]
    },
    {
      "cell_type": "markdown",
      "metadata": {
        "id": "s1NXz5-H5Ttf"
      },
      "source": [
        "# Red Neuronal Convolucional"
      ]
    },
    {
      "cell_type": "markdown",
      "metadata": {
        "id": "4qQYQziCx5fz"
      },
      "source": [
        "Ahora probaremos resolver el problema de clasificación utilizando una red neuronal convolucional (`CNN`).\n",
        "\n",
        "## Arquitectura de la red\n",
        "La arquitectura de la red está compuesta por las siguientes capas:\n",
        "\n",
        "* Capa convolucional 1: 6 filtros de 5x5 con stride de 1 y padding de 2.\n",
        "* Función de activación ReLU.\n",
        "* Max pooling 1: filtro de 2x2 con stride de 2 y sin padding.\n",
        "* Capa convolucional 2: 16 filtros de 5x5 con stride de 1 y sin padding.\n",
        "* Función de activación ReLU.\n",
        "* Max pooling 2: filtro de 2x2 con stride de 2 y sin padding.\n",
        "* Capa totalmente conectada 1: 120 neuronas.\n",
        "* Función de activación ReLU.\n",
        "* Capa totalmente conectada 2: 84 neuronas.\n",
        "* Función de activación ReLU.\n",
        "* Capa de salida: 10 neuronas.\n",
        "\n",
        "## Herramientas de PyTorch:\n",
        "Algunas clases y funciones de PyTorch que nos serán útiles para implementar el modelo son:\n",
        "* `nn.Conv2D`: una capa convolucional 2D. Es necesario especificar el número de canales de entrada, el número de filtros, el tamaño del kernel, el stride y el padding.\n",
        "* `nn.MaxPool2d`: implementa una capa de max pooling 2D. Se especifica el tamaño del filtro de pooling y el stride.\n",
        "* `nn.Linear`: implementa una capa totalmente conectada. Debemos especificar el número de entradas y salidas de la capa.\n",
        "* `F.relu`: implementa la función de activación ReLU, que se aplica después de las capas de convolución y totalmente conectadas (la podemos aplicar directamente dentro del método `forward` de la red).\n",
        "\n",
        "## Entrenamiento del modelo\n",
        "* **Optimizador**: utilizaremos el método de Gradiente Descendente Estocástico por mini-batches (`optim.SGD`) para ajustar los pesos de la red durante el entrenamiento.\n",
        "* **Función de pérdida**: la función de pérdida será la Entropía Cruzada (`nn.CrossEntropyLoss`), adecuada para problemas de clasificación multiclase, como la clasificación de dígitos manuscritos.\n",
        "\n",
        "## Salida de las capas convolucionales:\n",
        "Para calcular el tamaño de salida de las capas convolucionales, utilizaremos la siguiente fórmula:\n",
        "\n",
        "$$O = \\frac{(W - F + 2P)}{S} + 1$$\n",
        "\n",
        "Donde:\n",
        "* F: tamaño del filtro.\n",
        "* W: tamaño de la entrada.\n",
        "* P: padding aplicado.\n",
        "* S: stride utilizado.\n"
      ]
    },
    {
      "cell_type": "markdown",
      "metadata": {
        "id": "HIOXeWJE3k59"
      },
      "source": [
        "Implementamos la red neuronal convolucional:"
      ]
    },
    {
      "cell_type": "code",
      "execution_count": null,
      "metadata": {
        "id": "uNs6Q6AFgEqM"
      },
      "outputs": [],
      "source": [
        "class CNN(nn.Module):\n",
        "    \"\"\"\n",
        "    Red neuronal convolucional (CNN)\n",
        "    \"\"\"\n",
        "    def __init__(self):\n",
        "        super().__init__()\n",
        "\n",
        "        # Primera capa convolucional + Max pooling\n",
        "        self.conv1 = nn.Conv2d(in_channels=1, out_channels=6, kernel_size=5, stride=1, padding=2)\n",
        "        self.pool1 = nn.MaxPool2d(kernel_size=2, stride=2)\n",
        "\n",
        "        # Segunda capa convolucional + Max pooling\n",
        "        self.conv2 = nn.Conv2d(in_channels=6, out_channels=16, kernel_size=5, stride=1)\n",
        "        self.pool2 = nn.MaxPool2d(kernel_size=2, stride=2)\n",
        "\n",
        "        # Capas totalmente conectadas 1 y 2\n",
        "        self.fc1 = nn.Linear(16 * 5 * 5, 120)\n",
        "        self.fc2 = nn.Linear(120, 84)\n",
        "\n",
        "        # Capa de salida\n",
        "        self.fc3 = nn.Linear(84, 10)\n",
        "\n",
        "    def forward(self, x):\n",
        "        # Aplicar la primera capa convolucional seguida de ReLU y Max Pooling\n",
        "        x = self.conv1(x)\n",
        "        x = torch.relu(x)\n",
        "        x = self.pool1(x)\n",
        "\n",
        "        # Aplicar la segunda capa convolucional seguida de ReLU y Max Pooling\n",
        "        x = self.conv2(x)\n",
        "        x = torch.relu(x)\n",
        "        x = self.pool2(x)\n",
        "\n",
        "        # Transformar la entrada en un vector para las capas totalmente conectadas\n",
        "        x = x.view(-1, 16 * 5 * 5)\n",
        "\n",
        "        # Aplicar la primera capa totalmente conectada seguida de ReLU\n",
        "        x = self.fc1(x)\n",
        "        x = torch.relu(x)\n",
        "\n",
        "        # Aplicar la segunda capa totalmente conectada seguida de ReLU\n",
        "        x = self.fc2(x)\n",
        "        x = torch.relu(x)\n",
        "\n",
        "        # Aplicar la capa de salida\n",
        "        x = self.fc3(x)\n",
        "\n",
        "        return x"
      ]
    },
    {
      "cell_type": "markdown",
      "metadata": {
        "id": "taSTUfkH3phK"
      },
      "source": [
        "Y el proceso de entrenamiento:"
      ]
    },
    {
      "cell_type": "code",
      "execution_count": null,
      "metadata": {
        "colab": {
          "base_uri": "https://localhost:8080/"
        },
        "id": "PlCieWljo1Gj",
        "outputId": "c64bc1d0-87f5-4f6d-d28b-cf999caeac53"
      },
      "outputs": [
        {
          "name": "stdout",
          "output_type": "stream",
          "text": [
            "Época 1/10, Pérdida: 0.9107\n",
            "Época 2/10, Pérdida: 0.5150\n",
            "Época 3/10, Pérdida: 0.1458\n",
            "Época 4/10, Pérdida: 0.2047\n",
            "Época 5/10, Pérdida: 0.0876\n",
            "Época 6/10, Pérdida: 0.2678\n",
            "Época 7/10, Pérdida: 0.0123\n",
            "Época 8/10, Pérdida: 0.0319\n",
            "Época 9/10, Pérdida: 0.1850\n",
            "Época 10/10, Pérdida: 0.0292\n"
          ]
        }
      ],
      "source": [
        "# Configuración del dispositivo (GPU si está disponible, de lo contrario CPU)\n",
        "device = torch.device(\"cuda\" if torch.cuda.is_available() else \"cpu\")\n",
        "\n",
        "# Construcción del modelo y envío al dispositivo\n",
        "model2 = CNN()\n",
        "model2.to(device)\n",
        "\n",
        "# Creación de dataLoaders para manejar los batches de entrenamiento y prueba\n",
        "batch_size = 64\n",
        "train_loader = DataLoader(dataset=train_dataset, batch_size=batch_size, shuffle=True)\n",
        "test_loader = DataLoader(dataset=test_dataset, batch_size=batch_size, shuffle=False)\n",
        "\n",
        "# Función de pérdida y optimizador\n",
        "criterion = nn.CrossEntropyLoss()\n",
        "optimizer = optim.SGD(model2.parameters(), lr=0.01)\n",
        "\n",
        "# Lista para guardar los valores de pérdida durante el entrenamiento\n",
        "train_loss = []\n",
        "\n",
        "# Épocas de entrenamiento\n",
        "num_epochs = 10\n",
        "\n",
        "# Establecer el modelo en modo entrenamiento\n",
        "model2.train()\n",
        "\n",
        "# Bucle de entrenamiento\n",
        "for epoch in range(num_epochs):\n",
        "    for inputs, labels in train_loader:\n",
        "        # Mover los datos a la GPU\n",
        "        inputs, labels = inputs.to(device), labels.to(device)\n",
        "\n",
        "        # Limpiar los gradientes\n",
        "        optimizer.zero_grad()\n",
        "\n",
        "        # Pasada forward\n",
        "        outputs = model2(inputs)\n",
        "\n",
        "        # Cálcular la pérdida\n",
        "        loss = criterion(outputs, labels)\n",
        "\n",
        "        # Pasada backward\n",
        "        loss.backward()\n",
        "\n",
        "        # Actualizar los pesos\n",
        "        optimizer.step()\n",
        "\n",
        "        # Guardar el valor de pérdida\n",
        "        train_loss.append(loss.item())\n",
        "\n",
        "    print(f\"Época {epoch + 1}/{num_epochs}, Pérdida: {loss.item():.4f}\")"
      ]
    },
    {
      "cell_type": "markdown",
      "metadata": {
        "id": "9G2-T-pN4DNy"
      },
      "source": [
        "Guardamos el modelo para poder reutilizarlo cuando queramos:"
      ]
    },
    {
      "cell_type": "code",
      "execution_count": null,
      "metadata": {
        "id": "9DQ1fZpb4DNz"
      },
      "outputs": [],
      "source": [
        "torch.save(model2.state_dict(), \"./cnn.pth\")"
      ]
    },
    {
      "cell_type": "markdown",
      "metadata": {
        "id": "MbIlJW4M4DN0"
      },
      "source": [
        "Visualizamos los valores de la función de pérdida durante el entrenamiento:"
      ]
    },
    {
      "cell_type": "code",
      "execution_count": null,
      "metadata": {
        "colab": {
          "base_uri": "https://localhost:8080/",
          "height": 563
        },
        "id": "0WWoyYEb4DN2",
        "outputId": "fd62240f-c9cd-40c3-b342-28966cf128b4"
      },
      "outputs": [
        {
          "data": {
            "text/plain": [
              "Text(0.5, 1.0, 'Pérdida durante el entrenamiento (CNN)')"
            ]
          },
          "execution_count": 14,
          "metadata": {},
          "output_type": "execute_result"
        },
        {
          "data": {
            "image/png": "[encoded data removed]",
            "text/plain": [
              "<Figure size 800x600 with 1 Axes>"
            ]
          },
          "metadata": {},
          "output_type": "display_data"
        }
      ],
      "source": [
        "train_loss = np.array(train_loss)\n",
        "N = 60\n",
        "run_avg_train_loss = np.convolve(train_loss, np.ones((N,))/N, mode=\"valid\")\n",
        "\n",
        "plt.figure()\n",
        "plt.plot(train_loss, alpha = 0.3) # original\n",
        "plt.plot(run_avg_train_loss, color=\"red\")   # versión suavizada\n",
        "plt.title(\"Pérdida durante el entrenamiento (CNN)\")\n"
      ]
    },
    {
      "cell_type": "markdown",
      "metadata": {
        "id": "-wDe3PY94Iep"
      },
      "source": [
        "Cargamos el modelo entrenado y lo evaluamos en conjunto de prueba:"
      ]
    },
    {
      "cell_type": "code",
      "execution_count": null,
      "metadata": {
        "colab": {
          "base_uri": "https://localhost:8080/"
        },
        "id": "3aBBomml4Ie4",
        "outputId": "a60b220c-d617-4878-c715-57e929bddcb7"
      },
      "outputs": [
        {
          "name": "stderr",
          "output_type": "stream",
          "text": [
            "<ipython-input-15-668a83082e0a>:3: FutureWarning: You are using `torch.load` with `weights_only=False` (the current default value), which uses the default pickle module implicitly. It is possible to construct malicious pickle data which will execute arbitrary code during unpickling (See https://github.com/pytorch/pytorch/blob/main/SECURITY.md#untrusted-models for more details). In a future release, the default value for `weights_only` will be flipped to `True`. This limits the functions that could be executed during unpickling. Arbitrary objects will no longer be allowed to be loaded via this mode unless they are explicitly allowlisted by the user via `torch.serialization.add_safe_globals`. We recommend you start setting `weights_only=True` for any use case where you don't have full control of the loaded file. Please open an issue on GitHub for any issues related to this experimental feature.\n",
            "  model2.load_state_dict(torch.load(\"./cnn.pth\"))\n"
          ]
        },
        {
          "name": "stdout",
          "output_type": "stream",
          "text": [
            "Resultados CNN:\n",
            "\n",
            "Accuracy General: 0.9809\n",
            "\n",
            "Accuracy para el dígito 0: 0.9918\n",
            "Accuracy para el dígito 1: 0.9938\n",
            "Accuracy para el dígito 2: 0.9874\n",
            "Accuracy para el dígito 3: 0.9733\n",
            "Accuracy para el dígito 4: 0.9857\n",
            "Accuracy para el dígito 5: 0.9686\n",
            "Accuracy para el dígito 6: 0.9864\n",
            "Accuracy para el dígito 7: 0.9786\n",
            "Accuracy para el dígito 8: 0.9836\n",
            "Accuracy para el dígito 9: 0.9574\n"
          ]
        }
      ],
      "source": [
        "# Cargar el modelo entrenado (no es necesario si se encuentra en memoria)\n",
        "model2 = CNN()\n",
        "model2.load_state_dict(torch.load(\"./cnn.pth\"))\n",
        "model2.to(device)\n",
        "\n",
        "# Evaluar el modelo entrenado en el conjunto de prueba\n",
        "overall_accuracy, accuracy_per_digit = evaluate_accuracy(model2, test_dataset, device)\n",
        "\n",
        "print(\"Resultados CNN:\\n\")\n",
        "\n",
        "# Mostrar la accuracy general\n",
        "print(f\"Accuracy General: {overall_accuracy:.4f}\")\n",
        "print()\n",
        "\n",
        "# Mostrar la accuracy por dígito\n",
        "for i, acc in enumerate(accuracy_per_digit):\n",
        "    print(f\"Accuracy para el dígito {i}: {acc:.4f}\")"
      ]
    },
    {
      "cell_type": "markdown",
      "metadata": {
        "id": "PcleJKAV5ahV"
      },
      "source": [
        "# Entregable"
      ]
    },
    {
      "cell_type": "markdown",
      "metadata": {
        "id": "0ee9CYVb9B22"
      },
      "source": [
        "1. Completar el código para la red neuronal multicapa (MultiLayerNN) y la red neuronal convolucional (CNN).\n",
        "2. Analizar los resultados obtenidos en el conjunto de prueba para ambas redes.\n",
        "\n",
        "(Opcional):\n",
        "3. Calcular la cantidad total de parámetros en cada red neuronal y comparar estos valores.\n",
        "4. Para la red convolucional, calcular y documentar el tamaño de las entradas y salidas de cada capa convolucional, así como el número de feature maps generados en cada capa.\n"
      ]
    },
    {
      "cell_type": "markdown",
      "metadata": {
        "id": "MPCdHHOZNNh-"
      },
      "source": [
        "### 2.\n",
        "- En la *Red Neuronal Multicapa* se obtuvo un Accuracy General del 93.8%. Lo cual demuestra una buena perfomance en la clasificacion multiclase.\n",
        "\n",
        "  Como dato particular se obtuvo el Accuracy para cada digito, en donde el digito 8 presento el menor (90.9%) entre todos los digitos. Esto se puede corresponder a que es el numero que presenta una mayor similitud con otros digitos tales como el 3,9 y 5. En cambio el digito 0 y 1 (97,8% y 98,1% resepectivamente) son digitos que son visualmente distintivos y no presentan mucha similitud con otros numeros.\n",
        "\n",
        "- La *Red Neuronal Convolucional* obtuvo un Accuracy General del 98.1%, demostrando una excelente capacidad de clasificación. Una conclusion es que las CNN se comportan mejor para el reconocimiento de patrones visuales en imágenes en comparación con modelos mas simple, como el modelo anterior (MultiLayerNN)\n",
        "\n",
        "  Nuevamente para cada dígito se observa un gran rendimiento en todos los casos, destacando nuevamente gran precisión para los dígitos 0 y 1 (99.2% y 99.4% respectivamente). Aun asi, en todos los demas digitos se obtuvo un porcentaje mayor al 95%, lo que una vez mas confirma que esta red neuronal captura mejor las diferencias sutiles entre los dígitos.\n",
        "\n"
      ]
    },
    {
      "cell_type": "code",
      "execution_count": null,
      "metadata": {
        "colab": {
          "base_uri": "https://localhost:8080/"
        },
        "id": "zRI4dLJrRDQu",
        "outputId": "09182fbc-4946-466a-b655-4078d974ca2d"
      },
      "outputs": [
        {
          "name": "stdout",
          "output_type": "stream",
          "text": [
            "Total parameteros en MultiLayerNN: 89610\n",
            "Total parameteros en CNN: 61706\n"
          ]
        }
      ],
      "source": [
        "total_params_multilayer = sum(p.numel() for p in model1.parameters()) #multilayer\n",
        "total_params_cnn = sum(p.numel() for p in model2.parameters())        #cnn\n",
        "\n",
        "print(f'Total parameteros en MultiLayerNN: {total_params_multilayer}')\n",
        "print(f'Total parameteros en CNN: {total_params_cnn}')\n",
        "\n"
      ]
    }
  ],
  "metadata": {
    "accelerator": "GPU",
    "colab": {
      "provenance": []
    },
    "kernelspec": {
      "display_name": "Python 3",
      "name": "python3"
    }
  },
  "nbformat": 4,
  "nbformat_minor": 0
}
